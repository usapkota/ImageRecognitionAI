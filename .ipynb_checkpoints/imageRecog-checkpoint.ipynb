{
 "cells": [
  {
   "cell_type": "code",
   "execution_count": 7,
   "metadata": {
    "collapsed": true
   },
   "outputs": [],
   "source": [
    "import numpy as np\n",
    "import matplotlib.pyplot as plt\n",
    "%matplotlib inline\n",
    "import PIL\n",
    "from PIL import Image\n",
    "import time\n",
    "\n",
    "from functools import reduce"
   ]
  },
  {
   "cell_type": "code",
   "execution_count": 8,
   "metadata": {
    "collapsed": true
   },
   "outputs": [],
   "source": [
    "i = Image.open('images/numbers/0.1.png')\n",
    "iar = np.array(i)\n",
    "\n",
    "i2 = Image.open('images/numbers/y0.4.png')\n",
    "iar2 = np.array(i2)\n",
    "\n",
    "i3 = Image.open('images/numbers/y0.5.png')\n",
    "iar3 = np.array(i3)\n",
    "\n",
    "i4 = Image.open('images/sentdex.png')\n",
    "iar4 = np.array(i4)\n",
    "\n",
    "\n"
   ]
  },
  {
   "cell_type": "code",
   "execution_count": 9,
   "metadata": {
    "collapsed": true
   },
   "outputs": [],
   "source": [
    "def threshold(imageArray):\n",
    "    balanceAr = []\n",
    "    newAr = imageArray\n",
    "    for eachRow in imageArray:\n",
    "        for eachPix in eachRow:\n",
    "            avgNum = reduce(lambda x,y:x+y, eachPix[:3])/len(eachPix[:3])\n",
    "            balanceAr.append(avgNum)\n",
    "            \n",
    "    balance = sum(balanceAr)/len(balanceAr)\n",
    "    for eachRow in newAr:\n",
    "        for eachPix in eachRow:\n",
    "            if reduce(lambda x,y:x+y, eachPix[:3])/len(eachPix[:3]) > balance:\n",
    "                eachPix[0] = 255\n",
    "                eachPix[1] = 255\n",
    "                eachPix[2] = 255\n",
    "                eachPix[3] = 255\n",
    "            else:\n",
    "                eachPix[0] = 0\n",
    "                eachPix[1] = 0\n",
    "                eachPix[2] = 0\n",
    "                eachPix[3] = 255\n",
    "    return newAr\n",
    "            "
   ]
  },
  {
   "cell_type": "code",
   "execution_count": 10,
   "metadata": {
    "collapsed": true
   },
   "outputs": [],
   "source": [
    "\n",
    "def createExamples():\n",
    "    numberArrayExamples = open('numArEx.txt', 'a')\n",
    "    numbersWeHave = range(0,10)\n",
    "    versionsWeHave = range(1,10)\n",
    "\n",
    "    for eachNum in numbersWeHave:\n",
    "        for eachVer in versionsWeHave:\n",
    "            imgFilePath = 'images/numbers/'+str(eachNum) + '.' + str(eachVer) + '.png'\n",
    "            ei = Image.open(imgFilePath)\n",
    "            eiar = np.array(ei)\n",
    "            eiar1 = str(eiar.tolist())\n",
    "            \n",
    "            lineToWrite = str(eachNum) + '::' + eiar1 + '\\n'\n",
    "            numberArrayExamples.write(lineToWrite)\n",
    "            \n",
    "createExamples()"
   ]
  },
  {
   "cell_type": "code",
   "execution_count": null,
   "metadata": {
    "collapsed": true
   },
   "outputs": [],
   "source": [
    "\n",
    "from collections import Counter\n",
    "\n",
    "def whatNumIsThis(filePath):\n",
    "    matchedAr = []\n",
    "    loadExamps = open('numArEx.txt', 'r').read()\n",
    "    loadExamps = loadExamps.split('\\n')\n",
    "    i = Image.open(filePath)\n",
    "    iar = np.array(i)\n",
    "    iarl = iar.tolist()\n",
    "    \n",
    "    inQuestion = str(iarl)\n",
    "    for eachExample in loadExamps:\n",
    "        if len(eachExample) > 3:\n",
    "            splitEx = eachExample.split('::')\n",
    "            currentNum = splitEx[0]\n",
    "            currentAr = splitEx[1]\n",
    "            \n",
    "            eachPixEx = currentAr.split('],')\n",
    "            eachPixInQ = inQuestion.split('],')\n",
    "            \n",
    "            x = 0\n",
    "            while(x < len(eachPixEx)):\n",
    "                if eachPixEx[x] == eachPixInQ[x]:\n",
    "                    matchedAr.append(int(currentNum))\n",
    "                x += 1\n",
    "                \n",
    "    print(matchedAr)    \n",
    "    x = Counter(matchedAr)   \n",
    "    print(x)\n",
    "            "
   ]
  },
  {
   "cell_type": "code",
   "execution_count": null,
   "metadata": {
    "collapsed": true
   },
   "outputs": [],
   "source": [
    "whatNumIsThis('images/test.png')"
   ]
  },
  {
   "cell_type": "code",
   "execution_count": null,
   "metadata": {
    "collapsed": true
   },
   "outputs": [],
   "source": []
  }
 ],
 "metadata": {
  "kernelspec": {
   "display_name": "Python 3",
   "language": "python",
   "name": "python3"
  },
  "language_info": {
   "codemirror_mode": {
    "name": "ipython",
    "version": 3
   },
   "file_extension": ".py",
   "mimetype": "text/x-python",
   "name": "python",
   "nbconvert_exporter": "python",
   "pygments_lexer": "ipython3",
   "version": "3.6.2"
  }
 },
 "nbformat": 4,
 "nbformat_minor": 2
}
